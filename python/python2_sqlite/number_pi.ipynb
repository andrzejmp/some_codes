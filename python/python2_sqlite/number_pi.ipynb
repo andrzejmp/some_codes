{
 "cells": [
  {
   "cell_type": "markdown",
   "metadata": {},
   "source": [
    "# number pi"
   ]
  },
  {
   "cell_type": "code",
   "execution_count": 3,
   "metadata": {
    "collapsed": false
   },
   "outputs": [
    {
     "name": "stdout",
     "output_type": "stream",
     "text": [
      "3.04183961893\n",
      "3.09162380667\n",
      "3.1082685667\n",
      "3.14159165359\n"
     ]
    }
   ],
   "source": [
    "#obliczanie liczby pi\n",
    "#determining the value of number pi\n",
    "def pi1(n):\n",
    "  s = 0\n",
    "  for i in range(1,n+1):\n",
    "    s = s + 1.0*(-1)**(i+1)*4/(2*i-1)\n",
    "  return s\n",
    "\n",
    "\n",
    "print (pi1(10))\n",
    "print (pi1(20))\n",
    "print (pi1(30))\n",
    "\n",
    "#1 ooo oooo of iterations !\n",
    "print (pi1(1000000))\n"
   ]
  },
  {
   "cell_type": "markdown",
   "metadata": {},
   "source": [
    "### There sould be:\n",
    "### 3.141592653589793238462643383279502884197169399375105820974944592307816406286...\n",
    "### <a href=\"http://www.geom.uiuc.edu/~huberty/math5337/groupe/digits.html\" target=\"_blank\">Check the value</a>"
   ]
  },
  {
   "cell_type": "code",
   "execution_count": null,
   "metadata": {
    "collapsed": true
   },
   "outputs": [],
   "source": []
  }
 ],
 "metadata": {
  "kernelspec": {
   "display_name": "Python 2",
   "language": "python",
   "name": "python2"
  },
  "language_info": {
   "codemirror_mode": {
    "name": "ipython",
    "version": 2
   },
   "file_extension": ".py",
   "mimetype": "text/x-python",
   "name": "python",
   "nbconvert_exporter": "python",
   "pygments_lexer": "ipython2",
   "version": "2.7.13"
  }
 },
 "nbformat": 4,
 "nbformat_minor": 2
}
